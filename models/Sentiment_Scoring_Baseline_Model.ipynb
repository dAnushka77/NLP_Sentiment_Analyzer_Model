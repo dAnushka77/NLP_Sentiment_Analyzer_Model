{
  "nbformat": 4,
  "nbformat_minor": 0,
  "metadata": {
    "colab": {
      "provenance": []
    },
    "kernelspec": {
      "name": "python3",
      "display_name": "Python 3"
    },
    "language_info": {
      "name": "python"
    }
  },
  "cells": [
    {
      "cell_type": "markdown",
      "source": [
        "# **Loading Dataset and Importing Libraries**"
      ],
      "metadata": {
        "id": "lKybva3TT2S3"
      }
    },
    {
      "cell_type": "code",
      "execution_count": 1,
      "metadata": {
        "id": "Qg19W6kMMH2K"
      },
      "outputs": [],
      "source": [
        "from nltk import sent_tokenize, pos_tag\n",
        "from nltk.tokenize import TreebankWordTokenizer\n",
        "from nltk.stem import WordNetLemmatizer\n",
        "from nltk.corpus import wordnet as wn\n",
        "from nltk.corpus import sentiwordnet as swn\n",
        "from nltk.sentiment.util import mark_negation\n",
        "from string import punctuation\n",
        "from IPython.display import display\n",
        "import pandas as pd\n",
        "import numpy as np\n",
        "import seaborn as sns\n",
        "import matplotlib.pyplot as plt\n",
        "pd.set_option('display.max_columns', None)\n",
        "pd.set_option('display.max_colwidth', None)"
      ]
    },
    {
      "cell_type": "code",
      "source": [
        "import nltk\n",
        "nltk.download('punkt')\n",
        "nltk.download('sentiwordnet')\n",
        "nltk.download('wordnet')\n",
        "nltk.download('averaged_perceptron_tagger')"
      ],
      "metadata": {
        "colab": {
          "base_uri": "https://localhost:8080/"
        },
        "id": "GpcHG_xCMN-B",
        "outputId": "f3b03cc6-45b2-46ae-d223-d70d5f20df52"
      },
      "execution_count": 26,
      "outputs": [
        {
          "output_type": "stream",
          "name": "stderr",
          "text": [
            "[nltk_data] Downloading package punkt to /root/nltk_data...\n",
            "[nltk_data]   Package punkt is already up-to-date!\n",
            "[nltk_data] Downloading package sentiwordnet to /root/nltk_data...\n",
            "[nltk_data]   Package sentiwordnet is already up-to-date!\n",
            "[nltk_data] Downloading package wordnet to /root/nltk_data...\n",
            "[nltk_data] Downloading package averaged_perceptron_tagger to\n",
            "[nltk_data]     /root/nltk_data...\n",
            "[nltk_data]   Package averaged_perceptron_tagger is already up-to-\n",
            "[nltk_data]       date!\n"
          ]
        },
        {
          "output_type": "execute_result",
          "data": {
            "text/plain": [
              "True"
            ]
          },
          "metadata": {},
          "execution_count": 26
        }
      ]
    },
    {
      "cell_type": "code",
      "source": [
        "from google.colab import drive\n",
        "drive.mount('/content/drive')"
      ],
      "metadata": {
        "colab": {
          "base_uri": "https://localhost:8080/"
        },
        "id": "l03JFG9nMRXk",
        "outputId": "ca1ca0bc-ccc7-47dc-e3fd-d72dd2c90322"
      },
      "execution_count": 27,
      "outputs": [
        {
          "output_type": "stream",
          "name": "stdout",
          "text": [
            "Drive already mounted at /content/drive; to attempt to forcibly remount, call drive.mount(\"/content/drive\", force_remount=True).\n"
          ]
        }
      ]
    },
    {
      "cell_type": "code",
      "source": [
        "path = '/content/small_corpora.csv'\n",
        "reviews = pd.read_csv(path)"
      ],
      "metadata": {
        "id": "osmwWTfvNQAc"
      },
      "execution_count": 28,
      "outputs": []
    },
    {
      "cell_type": "code",
      "source": [
        "reviews.head()"
      ],
      "metadata": {
        "colab": {
          "base_uri": "https://localhost:8080/",
          "height": 1000
        },
        "id": "gNQSRwrsOYBd",
        "outputId": "d01384ab-82d2-402c-f092-980a7fdb3cf5"
      },
      "execution_count": 29,
      "outputs": [
        {
          "output_type": "execute_result",
          "data": {
            "text/plain": [
              "   overall  verified   reviewTime      reviewerID        asin  \\\n",
              "0      1.0     False  03 27, 2015  A35T1X6MXUJ0VO  B00KME8K9C   \n",
              "1      1.0      True   02 5, 2015   A2WCWURD1MU5Y  B002BH3N2W   \n",
              "2      1.0     False  10 26, 2004  A29VM84ZDEMCDN  B00006910J   \n",
              "3      1.0      True  09 23, 2017  A3B4QQTV3RF77A  B017AGIDV4   \n",
              "4      1.0      True   06 1, 2017  A1XNZZ3UJO07LE  B00NQHO7SK   \n",
              "\n",
              "       reviewerName  \\\n",
              "0  Josean Rodriguez   \n",
              "1          Samantha   \n",
              "2           Radem44   \n",
              "3       John Lesnar   \n",
              "4           retro_r   \n",
              "\n",
              "                                                                                                                                                                                                                                                                                                                                                                                                                          reviewText  \\\n",
              "0                                                                                                                  This is the worst battlefield yet I think first person shooter is getting old they nee reconfigure the completely  it needs mayor overhaul maps but specially the game play some time s you be running around disoriented  not knowing what to do too much running around looking for people bad save your money!   \n",
              "1                                                                                                                                                                                                                                                            I gave this as a gift for Christmas and it was returned to me because it never worked. Disk was scratched upon receipt and seller refuses to replace. BUYER BEWARE!!!!!   \n",
              "2            Can't get this program to work with Windows XP at all. Screen goes black and locks up the computer. Atari does not offer any kind of patch to fix their program, but suggests you open Windows Task Manager and start shutting down all the background program on your computer to eliminate conflicts. Sorry, but I'm not shutting down my anti-virus, anti-spyware and firewall programs to play a stupid video game!   \n",
              "3                                                                                                                                                                                                                                                                                                                                                              One star is because the product arrived without the disk and manual..   \n",
              "4  I used to love this headset, but the mic no longer works. The light is on for the mic (and can be turned off/on with the switch), but no audio is recorded. I tried contacting Sentey but they are ignoring me. What can I do?!\\n\\n(update 6/19/17 - dropping to 1 star out of 5. Reason is not the mic issue but that Sentey is completely ignoring my questions on their website or via email. Extremely poor customer service)   \n",
              "\n",
              "                                                                         summary  \\\n",
              "0  This is the worst battlefield yet I think first person shooter is getting ...   \n",
              "1                                                                   BUYER BEWARE   \n",
              "2                                       Worthless--Do not buy if you have Win XP   \n",
              "3                                                                       No disk.   \n",
              "4                                                                    mic died :(   \n",
              "\n",
              "   unixReviewTime  vote                       style  \\\n",
              "0      1427414400   NaN  {'Format:': ' Video Game'}   \n",
              "1      1423094400   NaN  {'Format:': ' Video Game'}   \n",
              "2      1098748800  11.0                         NaN   \n",
              "3      1506124800   2.0  {'Format:': ' Video Game'}   \n",
              "4      1496275200   NaN        {'Color:': ' BLack'}   \n",
              "\n",
              "                                                                        image  \n",
              "0                                                                         NaN  \n",
              "1                                                                         NaN  \n",
              "2                                                                         NaN  \n",
              "3  ['https://images-na.ssl-images-amazon.com/images/I/81yaL92C9lL._SY88.jpg']  \n",
              "4                                                                         NaN  "
            ],
            "text/html": [
              "\n",
              "\n",
              "  <div id=\"df-f03fe272-0844-48e1-a3d2-556bf307ab9a\">\n",
              "    <div class=\"colab-df-container\">\n",
              "      <div>\n",
              "<style scoped>\n",
              "    .dataframe tbody tr th:only-of-type {\n",
              "        vertical-align: middle;\n",
              "    }\n",
              "\n",
              "    .dataframe tbody tr th {\n",
              "        vertical-align: top;\n",
              "    }\n",
              "\n",
              "    .dataframe thead th {\n",
              "        text-align: right;\n",
              "    }\n",
              "</style>\n",
              "<table border=\"1\" class=\"dataframe\">\n",
              "  <thead>\n",
              "    <tr style=\"text-align: right;\">\n",
              "      <th></th>\n",
              "      <th>overall</th>\n",
              "      <th>verified</th>\n",
              "      <th>reviewTime</th>\n",
              "      <th>reviewerID</th>\n",
              "      <th>asin</th>\n",
              "      <th>reviewerName</th>\n",
              "      <th>reviewText</th>\n",
              "      <th>summary</th>\n",
              "      <th>unixReviewTime</th>\n",
              "      <th>vote</th>\n",
              "      <th>style</th>\n",
              "      <th>image</th>\n",
              "    </tr>\n",
              "  </thead>\n",
              "  <tbody>\n",
              "    <tr>\n",
              "      <th>0</th>\n",
              "      <td>1.0</td>\n",
              "      <td>False</td>\n",
              "      <td>03 27, 2015</td>\n",
              "      <td>A35T1X6MXUJ0VO</td>\n",
              "      <td>B00KME8K9C</td>\n",
              "      <td>Josean Rodriguez</td>\n",
              "      <td>This is the worst battlefield yet I think first person shooter is getting old they nee reconfigure the completely  it needs mayor overhaul maps but specially the game play some time s you be running around disoriented  not knowing what to do too much running around looking for people bad save your money!</td>\n",
              "      <td>This is the worst battlefield yet I think first person shooter is getting ...</td>\n",
              "      <td>1427414400</td>\n",
              "      <td>NaN</td>\n",
              "      <td>{'Format:': ' Video Game'}</td>\n",
              "      <td>NaN</td>\n",
              "    </tr>\n",
              "    <tr>\n",
              "      <th>1</th>\n",
              "      <td>1.0</td>\n",
              "      <td>True</td>\n",
              "      <td>02 5, 2015</td>\n",
              "      <td>A2WCWURD1MU5Y</td>\n",
              "      <td>B002BH3N2W</td>\n",
              "      <td>Samantha</td>\n",
              "      <td>I gave this as a gift for Christmas and it was returned to me because it never worked. Disk was scratched upon receipt and seller refuses to replace. BUYER BEWARE!!!!!</td>\n",
              "      <td>BUYER BEWARE</td>\n",
              "      <td>1423094400</td>\n",
              "      <td>NaN</td>\n",
              "      <td>{'Format:': ' Video Game'}</td>\n",
              "      <td>NaN</td>\n",
              "    </tr>\n",
              "    <tr>\n",
              "      <th>2</th>\n",
              "      <td>1.0</td>\n",
              "      <td>False</td>\n",
              "      <td>10 26, 2004</td>\n",
              "      <td>A29VM84ZDEMCDN</td>\n",
              "      <td>B00006910J</td>\n",
              "      <td>Radem44</td>\n",
              "      <td>Can't get this program to work with Windows XP at all. Screen goes black and locks up the computer. Atari does not offer any kind of patch to fix their program, but suggests you open Windows Task Manager and start shutting down all the background program on your computer to eliminate conflicts. Sorry, but I'm not shutting down my anti-virus, anti-spyware and firewall programs to play a stupid video game!</td>\n",
              "      <td>Worthless--Do not buy if you have Win XP</td>\n",
              "      <td>1098748800</td>\n",
              "      <td>11.0</td>\n",
              "      <td>NaN</td>\n",
              "      <td>NaN</td>\n",
              "    </tr>\n",
              "    <tr>\n",
              "      <th>3</th>\n",
              "      <td>1.0</td>\n",
              "      <td>True</td>\n",
              "      <td>09 23, 2017</td>\n",
              "      <td>A3B4QQTV3RF77A</td>\n",
              "      <td>B017AGIDV4</td>\n",
              "      <td>John Lesnar</td>\n",
              "      <td>One star is because the product arrived without the disk and manual..</td>\n",
              "      <td>No disk.</td>\n",
              "      <td>1506124800</td>\n",
              "      <td>2.0</td>\n",
              "      <td>{'Format:': ' Video Game'}</td>\n",
              "      <td>['https://images-na.ssl-images-amazon.com/images/I/81yaL92C9lL._SY88.jpg']</td>\n",
              "    </tr>\n",
              "    <tr>\n",
              "      <th>4</th>\n",
              "      <td>1.0</td>\n",
              "      <td>True</td>\n",
              "      <td>06 1, 2017</td>\n",
              "      <td>A1XNZZ3UJO07LE</td>\n",
              "      <td>B00NQHO7SK</td>\n",
              "      <td>retro_r</td>\n",
              "      <td>I used to love this headset, but the mic no longer works. The light is on for the mic (and can be turned off/on with the switch), but no audio is recorded. I tried contacting Sentey but they are ignoring me. What can I do?!\\n\\n(update 6/19/17 - dropping to 1 star out of 5. Reason is not the mic issue but that Sentey is completely ignoring my questions on their website or via email. Extremely poor customer service)</td>\n",
              "      <td>mic died :(</td>\n",
              "      <td>1496275200</td>\n",
              "      <td>NaN</td>\n",
              "      <td>{'Color:': ' BLack'}</td>\n",
              "      <td>NaN</td>\n",
              "    </tr>\n",
              "  </tbody>\n",
              "</table>\n",
              "</div>\n",
              "      <button class=\"colab-df-convert\" onclick=\"convertToInteractive('df-f03fe272-0844-48e1-a3d2-556bf307ab9a')\"\n",
              "              title=\"Convert this dataframe to an interactive table.\"\n",
              "              style=\"display:none;\">\n",
              "\n",
              "  <svg xmlns=\"http://www.w3.org/2000/svg\" height=\"24px\"viewBox=\"0 0 24 24\"\n",
              "       width=\"24px\">\n",
              "    <path d=\"M0 0h24v24H0V0z\" fill=\"none\"/>\n",
              "    <path d=\"M18.56 5.44l.94 2.06.94-2.06 2.06-.94-2.06-.94-.94-2.06-.94 2.06-2.06.94zm-11 1L8.5 8.5l.94-2.06 2.06-.94-2.06-.94L8.5 2.5l-.94 2.06-2.06.94zm10 10l.94 2.06.94-2.06 2.06-.94-2.06-.94-.94-2.06-.94 2.06-2.06.94z\"/><path d=\"M17.41 7.96l-1.37-1.37c-.4-.4-.92-.59-1.43-.59-.52 0-1.04.2-1.43.59L10.3 9.45l-7.72 7.72c-.78.78-.78 2.05 0 2.83L4 21.41c.39.39.9.59 1.41.59.51 0 1.02-.2 1.41-.59l7.78-7.78 2.81-2.81c.8-.78.8-2.07 0-2.86zM5.41 20L4 18.59l7.72-7.72 1.47 1.35L5.41 20z\"/>\n",
              "  </svg>\n",
              "      </button>\n",
              "\n",
              "\n",
              "\n",
              "    <div id=\"df-786b2192-3e13-4b4d-af24-510c3d22a0ab\">\n",
              "      <button class=\"colab-df-quickchart\" onclick=\"quickchart('df-786b2192-3e13-4b4d-af24-510c3d22a0ab')\"\n",
              "              title=\"Suggest charts.\"\n",
              "              style=\"display:none;\">\n",
              "\n",
              "<svg xmlns=\"http://www.w3.org/2000/svg\" height=\"24px\"viewBox=\"0 0 24 24\"\n",
              "     width=\"24px\">\n",
              "    <g>\n",
              "        <path d=\"M19 3H5c-1.1 0-2 .9-2 2v14c0 1.1.9 2 2 2h14c1.1 0 2-.9 2-2V5c0-1.1-.9-2-2-2zM9 17H7v-7h2v7zm4 0h-2V7h2v10zm4 0h-2v-4h2v4z\"/>\n",
              "    </g>\n",
              "</svg>\n",
              "      </button>\n",
              "    </div>\n",
              "\n",
              "<style>\n",
              "  .colab-df-quickchart {\n",
              "    background-color: #E8F0FE;\n",
              "    border: none;\n",
              "    border-radius: 50%;\n",
              "    cursor: pointer;\n",
              "    display: none;\n",
              "    fill: #1967D2;\n",
              "    height: 32px;\n",
              "    padding: 0 0 0 0;\n",
              "    width: 32px;\n",
              "  }\n",
              "\n",
              "  .colab-df-quickchart:hover {\n",
              "    background-color: #E2EBFA;\n",
              "    box-shadow: 0px 1px 2px rgba(60, 64, 67, 0.3), 0px 1px 3px 1px rgba(60, 64, 67, 0.15);\n",
              "    fill: #174EA6;\n",
              "  }\n",
              "\n",
              "  [theme=dark] .colab-df-quickchart {\n",
              "    background-color: #3B4455;\n",
              "    fill: #D2E3FC;\n",
              "  }\n",
              "\n",
              "  [theme=dark] .colab-df-quickchart:hover {\n",
              "    background-color: #434B5C;\n",
              "    box-shadow: 0px 1px 3px 1px rgba(0, 0, 0, 0.15);\n",
              "    filter: drop-shadow(0px 1px 2px rgba(0, 0, 0, 0.3));\n",
              "    fill: #FFFFFF;\n",
              "  }\n",
              "</style>\n",
              "\n",
              "    <script>\n",
              "      async function quickchart(key) {\n",
              "        const containerElement = document.querySelector('#' + key);\n",
              "        const charts = await google.colab.kernel.invokeFunction(\n",
              "            'suggestCharts', [key], {});\n",
              "      }\n",
              "    </script>\n",
              "\n",
              "      <script>\n",
              "\n",
              "function displayQuickchartButton(domScope) {\n",
              "  let quickchartButtonEl =\n",
              "    domScope.querySelector('#df-786b2192-3e13-4b4d-af24-510c3d22a0ab button.colab-df-quickchart');\n",
              "  quickchartButtonEl.style.display =\n",
              "    google.colab.kernel.accessAllowed ? 'block' : 'none';\n",
              "}\n",
              "\n",
              "        displayQuickchartButton(document);\n",
              "      </script>\n",
              "      <style>\n",
              "    .colab-df-container {\n",
              "      display:flex;\n",
              "      flex-wrap:wrap;\n",
              "      gap: 12px;\n",
              "    }\n",
              "\n",
              "    .colab-df-convert {\n",
              "      background-color: #E8F0FE;\n",
              "      border: none;\n",
              "      border-radius: 50%;\n",
              "      cursor: pointer;\n",
              "      display: none;\n",
              "      fill: #1967D2;\n",
              "      height: 32px;\n",
              "      padding: 0 0 0 0;\n",
              "      width: 32px;\n",
              "    }\n",
              "\n",
              "    .colab-df-convert:hover {\n",
              "      background-color: #E2EBFA;\n",
              "      box-shadow: 0px 1px 2px rgba(60, 64, 67, 0.3), 0px 1px 3px 1px rgba(60, 64, 67, 0.15);\n",
              "      fill: #174EA6;\n",
              "    }\n",
              "\n",
              "    [theme=dark] .colab-df-convert {\n",
              "      background-color: #3B4455;\n",
              "      fill: #D2E3FC;\n",
              "    }\n",
              "\n",
              "    [theme=dark] .colab-df-convert:hover {\n",
              "      background-color: #434B5C;\n",
              "      box-shadow: 0px 1px 3px 1px rgba(0, 0, 0, 0.15);\n",
              "      filter: drop-shadow(0px 1px 2px rgba(0, 0, 0, 0.3));\n",
              "      fill: #FFFFFF;\n",
              "    }\n",
              "  </style>\n",
              "\n",
              "      <script>\n",
              "        const buttonEl =\n",
              "          document.querySelector('#df-f03fe272-0844-48e1-a3d2-556bf307ab9a button.colab-df-convert');\n",
              "        buttonEl.style.display =\n",
              "          google.colab.kernel.accessAllowed ? 'block' : 'none';\n",
              "\n",
              "        async function convertToInteractive(key) {\n",
              "          const element = document.querySelector('#df-f03fe272-0844-48e1-a3d2-556bf307ab9a');\n",
              "          const dataTable =\n",
              "            await google.colab.kernel.invokeFunction('convertToInteractive',\n",
              "                                                     [key], {});\n",
              "          if (!dataTable) return;\n",
              "\n",
              "          const docLinkHtml = 'Like what you see? Visit the ' +\n",
              "            '<a target=\"_blank\" href=https://colab.research.google.com/notebooks/data_table.ipynb>data table notebook</a>'\n",
              "            + ' to learn more about interactive tables.';\n",
              "          element.innerHTML = '';\n",
              "          dataTable['output_type'] = 'display_data';\n",
              "          await google.colab.output.renderOutput(dataTable, element);\n",
              "          const docLink = document.createElement('div');\n",
              "          docLink.innerHTML = docLinkHtml;\n",
              "          element.appendChild(docLink);\n",
              "        }\n",
              "      </script>\n",
              "    </div>\n",
              "  </div>\n"
            ]
          },
          "metadata": {},
          "execution_count": 29
        }
      ]
    },
    {
      "cell_type": "code",
      "source": [
        "reviews.dropna(subset=['reviewText'], inplace=True)\n",
        "reviews.shape"
      ],
      "metadata": {
        "colab": {
          "base_uri": "https://localhost:8080/"
        },
        "id": "6y2rzO3QO18f",
        "outputId": "a0c28d58-8bf7-4556-9cbd-785ba885bfae"
      },
      "execution_count": 30,
      "outputs": [
        {
          "output_type": "execute_result",
          "data": {
            "text/plain": [
              "(4499, 12)"
            ]
          },
          "metadata": {},
          "execution_count": 30
        }
      ]
    },
    {
      "cell_type": "markdown",
      "source": [
        "# **Sentiment Scoring Using SentiWordNet**"
      ],
      "metadata": {
        "id": "RGqj0DBrVCcl"
      }
    },
    {
      "cell_type": "code",
      "source": [
        "def penn_to_wn(tag):\n",
        "    \"\"\"\n",
        "        Convert between the PennTreebank tags to simple Wordnet tags\n",
        "    \"\"\"\n",
        "    if tag.startswith('J'):\n",
        "        return wn.ADJ\n",
        "    elif tag.startswith('N'):\n",
        "        return wn.NOUN\n",
        "    elif tag.startswith('R'):\n",
        "        return wn.ADV\n",
        "    elif tag.startswith('V'):\n",
        "        return wn.VERB\n",
        "    return None"
      ],
      "metadata": {
        "id": "R_QxiU4zO6gs"
      },
      "execution_count": 31,
      "outputs": []
    },
    {
      "cell_type": "code",
      "source": [
        "def get_sentiment_score(text):\n",
        "\n",
        "    \"\"\"\n",
        "        This method returns the sentiment score of a given text using SentiWordNet sentiment scores.\n",
        "        input: text\n",
        "        output: numeric (double) score, >0 means positive sentiment and <0 means negative sentiment.\n",
        "    \"\"\"\n",
        "    total_score = 0\n",
        "    #print(text)\n",
        "    raw_sentences = sent_tokenize(text)\n",
        "    #print(raw_sentences)\n",
        "\n",
        "    for sentence in raw_sentences:\n",
        "\n",
        "        sent_score = 0\n",
        "        sentence = str(sentence)\n",
        "        #print(sentence)\n",
        "        sentence = sentence.replace(\"<br />\",\" \").translate(str.maketrans('','',punctuation)).lower()\n",
        "        tokens = TreebankWordTokenizer().tokenize(text)\n",
        "        tags = pos_tag(tokens)\n",
        "        for word, tag in tags:\n",
        "            wn_tag = penn_to_wn(tag)\n",
        "            if not wn_tag:\n",
        "                continue\n",
        "            lemma = WordNetLemmatizer().lemmatize(word, pos=wn_tag)\n",
        "            if not lemma:\n",
        "                continue\n",
        "            synsets = wn.synsets(lemma, pos=wn_tag)\n",
        "            if not synsets:\n",
        "                continue\n",
        "            synset = synsets[0]\n",
        "            swn_synset = swn.senti_synset(synset.name())\n",
        "            sent_score += swn_synset.pos_score() - swn_synset.neg_score()\n",
        "\n",
        "        total_score = total_score + (sent_score / len(tokens))\n",
        "\n",
        "\n",
        "    return (total_score / len(raw_sentences)) * 100"
      ],
      "metadata": {
        "id": "BfKchvBzO8e5"
      },
      "execution_count": 32,
      "outputs": []
    },
    {
      "cell_type": "code",
      "source": [
        "reviews['swn_score'] = reviews['reviewText'].apply(lambda text : get_sentiment_score(text))\n",
        "reviews[['reviewText','swn_score']].sample(2)"
      ],
      "metadata": {
        "colab": {
          "base_uri": "https://localhost:8080/",
          "height": 243
        },
        "id": "Ikg_THhfPAZV",
        "outputId": "1116eef3-63d6-4418-b2cb-3d3da02059dc"
      },
      "execution_count": 33,
      "outputs": [
        {
          "output_type": "execute_result",
          "data": {
            "text/plain": [
              "                                                                                                                                                                                                                                                                                                                                                                                                                                                                                                                                                                                                                                                                                                                                                                                                                                                             reviewText  \\\n",
              "3352                                                                                                                                                                                                                                                                                                                                                                                                                                                                                                                                                                                                                                                                                                                                                                                                                                                                 A+   \n",
              "1666  Instead of Horizon, this should have been called, \"Forza: The Poor Attempt to Be Need For Speed.\"\\n\\nGood things: Only one.  The scenery is beautiful.  But it's not enough.  It never really changes enough, and after five minutes you feel like you've seen just about all there is to see.\\n\\nBad things:  No rear view mirror (what? really?).  Limited choices on how to set up your controller.  I like the gas/brake on the right joystick - not an option here.  Annoying woman talking to you throughout the game, asking you why you're not racing, commenting on your driving, telling you what you should do.  Plays just like Need for Speed except there aren't any cops - one of the most fun things in NFS.\\n\\nBottom line: don't make the mistake I did and buy this thinking to extend your Forza experience.  This is a whole different game.   \n",
              "\n",
              "      swn_score  \n",
              "3352   0.000000  \n",
              "1666  -0.294118  "
            ],
            "text/html": [
              "\n",
              "\n",
              "  <div id=\"df-e7168971-5915-406d-aefe-4ef3a22b2cb5\">\n",
              "    <div class=\"colab-df-container\">\n",
              "      <div>\n",
              "<style scoped>\n",
              "    .dataframe tbody tr th:only-of-type {\n",
              "        vertical-align: middle;\n",
              "    }\n",
              "\n",
              "    .dataframe tbody tr th {\n",
              "        vertical-align: top;\n",
              "    }\n",
              "\n",
              "    .dataframe thead th {\n",
              "        text-align: right;\n",
              "    }\n",
              "</style>\n",
              "<table border=\"1\" class=\"dataframe\">\n",
              "  <thead>\n",
              "    <tr style=\"text-align: right;\">\n",
              "      <th></th>\n",
              "      <th>reviewText</th>\n",
              "      <th>swn_score</th>\n",
              "    </tr>\n",
              "  </thead>\n",
              "  <tbody>\n",
              "    <tr>\n",
              "      <th>3352</th>\n",
              "      <td>A+</td>\n",
              "      <td>0.000000</td>\n",
              "    </tr>\n",
              "    <tr>\n",
              "      <th>1666</th>\n",
              "      <td>Instead of Horizon, this should have been called, \"Forza: The Poor Attempt to Be Need For Speed.\"\\n\\nGood things: Only one.  The scenery is beautiful.  But it's not enough.  It never really changes enough, and after five minutes you feel like you've seen just about all there is to see.\\n\\nBad things:  No rear view mirror (what? really?).  Limited choices on how to set up your controller.  I like the gas/brake on the right joystick - not an option here.  Annoying woman talking to you throughout the game, asking you why you're not racing, commenting on your driving, telling you what you should do.  Plays just like Need for Speed except there aren't any cops - one of the most fun things in NFS.\\n\\nBottom line: don't make the mistake I did and buy this thinking to extend your Forza experience.  This is a whole different game.</td>\n",
              "      <td>-0.294118</td>\n",
              "    </tr>\n",
              "  </tbody>\n",
              "</table>\n",
              "</div>\n",
              "      <button class=\"colab-df-convert\" onclick=\"convertToInteractive('df-e7168971-5915-406d-aefe-4ef3a22b2cb5')\"\n",
              "              title=\"Convert this dataframe to an interactive table.\"\n",
              "              style=\"display:none;\">\n",
              "\n",
              "  <svg xmlns=\"http://www.w3.org/2000/svg\" height=\"24px\"viewBox=\"0 0 24 24\"\n",
              "       width=\"24px\">\n",
              "    <path d=\"M0 0h24v24H0V0z\" fill=\"none\"/>\n",
              "    <path d=\"M18.56 5.44l.94 2.06.94-2.06 2.06-.94-2.06-.94-.94-2.06-.94 2.06-2.06.94zm-11 1L8.5 8.5l.94-2.06 2.06-.94-2.06-.94L8.5 2.5l-.94 2.06-2.06.94zm10 10l.94 2.06.94-2.06 2.06-.94-2.06-.94-.94-2.06-.94 2.06-2.06.94z\"/><path d=\"M17.41 7.96l-1.37-1.37c-.4-.4-.92-.59-1.43-.59-.52 0-1.04.2-1.43.59L10.3 9.45l-7.72 7.72c-.78.78-.78 2.05 0 2.83L4 21.41c.39.39.9.59 1.41.59.51 0 1.02-.2 1.41-.59l7.78-7.78 2.81-2.81c.8-.78.8-2.07 0-2.86zM5.41 20L4 18.59l7.72-7.72 1.47 1.35L5.41 20z\"/>\n",
              "  </svg>\n",
              "      </button>\n",
              "\n",
              "\n",
              "\n",
              "    <div id=\"df-405792c6-af65-4e70-bed6-0794581bdde0\">\n",
              "      <button class=\"colab-df-quickchart\" onclick=\"quickchart('df-405792c6-af65-4e70-bed6-0794581bdde0')\"\n",
              "              title=\"Suggest charts.\"\n",
              "              style=\"display:none;\">\n",
              "\n",
              "<svg xmlns=\"http://www.w3.org/2000/svg\" height=\"24px\"viewBox=\"0 0 24 24\"\n",
              "     width=\"24px\">\n",
              "    <g>\n",
              "        <path d=\"M19 3H5c-1.1 0-2 .9-2 2v14c0 1.1.9 2 2 2h14c1.1 0 2-.9 2-2V5c0-1.1-.9-2-2-2zM9 17H7v-7h2v7zm4 0h-2V7h2v10zm4 0h-2v-4h2v4z\"/>\n",
              "    </g>\n",
              "</svg>\n",
              "      </button>\n",
              "    </div>\n",
              "\n",
              "<style>\n",
              "  .colab-df-quickchart {\n",
              "    background-color: #E8F0FE;\n",
              "    border: none;\n",
              "    border-radius: 50%;\n",
              "    cursor: pointer;\n",
              "    display: none;\n",
              "    fill: #1967D2;\n",
              "    height: 32px;\n",
              "    padding: 0 0 0 0;\n",
              "    width: 32px;\n",
              "  }\n",
              "\n",
              "  .colab-df-quickchart:hover {\n",
              "    background-color: #E2EBFA;\n",
              "    box-shadow: 0px 1px 2px rgba(60, 64, 67, 0.3), 0px 1px 3px 1px rgba(60, 64, 67, 0.15);\n",
              "    fill: #174EA6;\n",
              "  }\n",
              "\n",
              "  [theme=dark] .colab-df-quickchart {\n",
              "    background-color: #3B4455;\n",
              "    fill: #D2E3FC;\n",
              "  }\n",
              "\n",
              "  [theme=dark] .colab-df-quickchart:hover {\n",
              "    background-color: #434B5C;\n",
              "    box-shadow: 0px 1px 3px 1px rgba(0, 0, 0, 0.15);\n",
              "    filter: drop-shadow(0px 1px 2px rgba(0, 0, 0, 0.3));\n",
              "    fill: #FFFFFF;\n",
              "  }\n",
              "</style>\n",
              "\n",
              "    <script>\n",
              "      async function quickchart(key) {\n",
              "        const containerElement = document.querySelector('#' + key);\n",
              "        const charts = await google.colab.kernel.invokeFunction(\n",
              "            'suggestCharts', [key], {});\n",
              "      }\n",
              "    </script>\n",
              "\n",
              "      <script>\n",
              "\n",
              "function displayQuickchartButton(domScope) {\n",
              "  let quickchartButtonEl =\n",
              "    domScope.querySelector('#df-405792c6-af65-4e70-bed6-0794581bdde0 button.colab-df-quickchart');\n",
              "  quickchartButtonEl.style.display =\n",
              "    google.colab.kernel.accessAllowed ? 'block' : 'none';\n",
              "}\n",
              "\n",
              "        displayQuickchartButton(document);\n",
              "      </script>\n",
              "      <style>\n",
              "    .colab-df-container {\n",
              "      display:flex;\n",
              "      flex-wrap:wrap;\n",
              "      gap: 12px;\n",
              "    }\n",
              "\n",
              "    .colab-df-convert {\n",
              "      background-color: #E8F0FE;\n",
              "      border: none;\n",
              "      border-radius: 50%;\n",
              "      cursor: pointer;\n",
              "      display: none;\n",
              "      fill: #1967D2;\n",
              "      height: 32px;\n",
              "      padding: 0 0 0 0;\n",
              "      width: 32px;\n",
              "    }\n",
              "\n",
              "    .colab-df-convert:hover {\n",
              "      background-color: #E2EBFA;\n",
              "      box-shadow: 0px 1px 2px rgba(60, 64, 67, 0.3), 0px 1px 3px 1px rgba(60, 64, 67, 0.15);\n",
              "      fill: #174EA6;\n",
              "    }\n",
              "\n",
              "    [theme=dark] .colab-df-convert {\n",
              "      background-color: #3B4455;\n",
              "      fill: #D2E3FC;\n",
              "    }\n",
              "\n",
              "    [theme=dark] .colab-df-convert:hover {\n",
              "      background-color: #434B5C;\n",
              "      box-shadow: 0px 1px 3px 1px rgba(0, 0, 0, 0.15);\n",
              "      filter: drop-shadow(0px 1px 2px rgba(0, 0, 0, 0.3));\n",
              "      fill: #FFFFFF;\n",
              "    }\n",
              "  </style>\n",
              "\n",
              "      <script>\n",
              "        const buttonEl =\n",
              "          document.querySelector('#df-e7168971-5915-406d-aefe-4ef3a22b2cb5 button.colab-df-convert');\n",
              "        buttonEl.style.display =\n",
              "          google.colab.kernel.accessAllowed ? 'block' : 'none';\n",
              "\n",
              "        async function convertToInteractive(key) {\n",
              "          const element = document.querySelector('#df-e7168971-5915-406d-aefe-4ef3a22b2cb5');\n",
              "          const dataTable =\n",
              "            await google.colab.kernel.invokeFunction('convertToInteractive',\n",
              "                                                     [key], {});\n",
              "          if (!dataTable) return;\n",
              "\n",
              "          const docLinkHtml = 'Like what you see? Visit the ' +\n",
              "            '<a target=\"_blank\" href=https://colab.research.google.com/notebooks/data_table.ipynb>data table notebook</a>'\n",
              "            + ' to learn more about interactive tables.';\n",
              "          element.innerHTML = '';\n",
              "          dataTable['output_type'] = 'display_data';\n",
              "          await google.colab.output.renderOutput(dataTable, element);\n",
              "          const docLink = document.createElement('div');\n",
              "          docLink.innerHTML = docLinkHtml;\n",
              "          element.appendChild(docLink);\n",
              "        }\n",
              "      </script>\n",
              "    </div>\n",
              "  </div>\n"
            ]
          },
          "metadata": {},
          "execution_count": 33
        }
      ]
    },
    {
      "cell_type": "markdown",
      "source": [
        "# **Analytics, Accuracy and Visualizations**"
      ],
      "metadata": {
        "id": "eIDbtNJSVLyb"
      }
    },
    {
      "cell_type": "code",
      "source": [
        "fig , ax = plt.subplots(nrows=1, ncols=1, figsize=(10,5))\n",
        "sns.histplot(x='swn_score', data=reviews.query(\"swn_score < 8 and swn_score > -8\"), ax=ax)\n",
        "plt.show()"
      ],
      "metadata": {
        "colab": {
          "base_uri": "https://localhost:8080/",
          "height": 465
        },
        "id": "zT0vUEC2PCXx",
        "outputId": "04167688-6708-46b1-b991-814688264875"
      },
      "execution_count": 37,
      "outputs": [
        {
          "output_type": "display_data",
          "data": {
            "text/plain": [
              "<Figure size 1000x500 with 1 Axes>"
            ],
            "image/png": "[encoded data removed]"
          },
          "metadata": {}
        }
      ]
    },
    {
      "cell_type": "code",
      "source": [
        "reviews['swn_sentiment'] = reviews['swn_score'].apply(lambda x: \"positive\" if x>1 else (\"negative\" if x<0.5 else \"neutral\"))"
      ],
      "metadata": {
        "id": "q_vYrA5tT1LQ"
      },
      "execution_count": 38,
      "outputs": []
    },
    {
      "cell_type": "code",
      "source": [
        "reviews['swn_sentiment'].value_counts(dropna=False)"
      ],
      "metadata": {
        "colab": {
          "base_uri": "https://localhost:8080/"
        },
        "id": "Mw66CxojXQd0",
        "outputId": "7ab5adfc-8b04-4384-889d-8098b4503be7"
      },
      "execution_count": 39,
      "outputs": [
        {
          "output_type": "execute_result",
          "data": {
            "text/plain": [
              "positive    2192\n",
              "negative    1874\n",
              "neutral      433\n",
              "Name: swn_sentiment, dtype: int64"
            ]
          },
          "metadata": {},
          "execution_count": 39
        }
      ]
    },
    {
      "cell_type": "code",
      "source": [
        "sns.countplot(x='overall', hue='swn_sentiment' ,data = reviews)"
      ],
      "metadata": {
        "colab": {
          "base_uri": "https://localhost:8080/",
          "height": 466
        },
        "id": "2L1NdkdCXSEw",
        "outputId": "c6d94067-ef6c-4b49-ec27-87f4cd8741e4"
      },
      "execution_count": 40,
      "outputs": [
        {
          "output_type": "execute_result",
          "data": {
            "text/plain": [
              "<Axes: xlabel='overall', ylabel='count'>"
            ]
          },
          "metadata": {},
          "execution_count": 40
        },
        {
          "output_type": "display_data",
          "data": {
            "text/plain": [
              "<Figure size 640x480 with 1 Axes>"
            ],
            "image/png": "[encoded data removed]"
          },
          "metadata": {}
        }
      ]
    },
    {
      "cell_type": "code",
      "source": [
        "sns.boxenplot(x='swn_sentiment', y='overall', data = reviews)"
      ],
      "metadata": {
        "colab": {
          "base_uri": "https://localhost:8080/",
          "height": 467
        },
        "id": "DHfFMHAFXULy",
        "outputId": "d111c18c-8a37-40f7-acd5-adb523346655"
      },
      "execution_count": 41,
      "outputs": [
        {
          "output_type": "execute_result",
          "data": {
            "text/plain": [
              "<Axes: xlabel='swn_sentiment', ylabel='overall'>"
            ]
          },
          "metadata": {},
          "execution_count": 41
        },
        {
          "output_type": "display_data",
          "data": {
            "text/plain": [
              "<Figure size 640x480 with 1 Axes>"
            ],
            "image/png": "[encoded data removed]"
          },
          "metadata": {}
        }
      ]
    },
    {
      "cell_type": "code",
      "source": [
        "fig, ax = plt.subplots(nrows=1, ncols=1, figsize = (10,5))\n",
        "sns.boxenplot(x='overall', y='swn_score', data = reviews, ax=ax)\n",
        "plt.show()"
      ],
      "metadata": {
        "colab": {
          "base_uri": "https://localhost:8080/",
          "height": 465
        },
        "id": "d4wimIPOXWW6",
        "outputId": "be6d9891-5ede-42ba-bdb0-30a7fa2c380c"
      },
      "execution_count": 43,
      "outputs": [
        {
          "output_type": "display_data",
          "data": {
            "text/plain": [
              "<Figure size 1000x500 with 1 Axes>"
            ],
            "image/png": "[encoded data removed]"
          },
          "metadata": {}
        }
      ]
    },
    {
      "cell_type": "code",
      "source": [
        "reviews['true_sentiment'] = reviews['overall'].apply(lambda x: \"positive\" if x>=4 else (\"neutral\" if x==3 else \"negative\"))"
      ],
      "metadata": {
        "id": "vJstKsNJXXyi"
      },
      "execution_count": 44,
      "outputs": []
    },
    {
      "cell_type": "code",
      "source": [
        "y_swn_pred, y_true = reviews['swn_sentiment'].tolist(), reviews['true_sentiment'].tolist()"
      ],
      "metadata": {
        "id": "6sHAxyJqXbHP"
      },
      "execution_count": 45,
      "outputs": []
    },
    {
      "cell_type": "code",
      "source": [
        "len(y_swn_pred), len(y_true)"
      ],
      "metadata": {
        "colab": {
          "base_uri": "https://localhost:8080/"
        },
        "id": "5LUF7Na1Xduo",
        "outputId": "beda1b7b-0545-444a-db73-335c11f03905"
      },
      "execution_count": 46,
      "outputs": [
        {
          "output_type": "execute_result",
          "data": {
            "text/plain": [
              "(4499, 4499)"
            ]
          },
          "metadata": {},
          "execution_count": 46
        }
      ]
    },
    {
      "cell_type": "code",
      "source": [
        "from sklearn.metrics import confusion_matrix\n",
        "cm = confusion_matrix(y_true, y_swn_pred)"
      ],
      "metadata": {
        "id": "zviP_CWbXfaX"
      },
      "execution_count": 47,
      "outputs": []
    },
    {
      "cell_type": "code",
      "source": [
        "fig , ax = plt.subplots(nrows=1, ncols=1, figsize=(6,4))\n",
        "sns.heatmap(cm, cmap='viridis_r', annot=True, fmt='d', square=True, ax=ax)\n",
        "ax.set_xlabel('Predicted')\n",
        "ax.set_ylabel('True');"
      ],
      "metadata": {
        "colab": {
          "base_uri": "https://localhost:8080/",
          "height": 388
        },
        "id": "oTqzV2xKXhXg",
        "outputId": "bc4b92dc-6f7a-4442-faab-e4daed72e58e"
      },
      "execution_count": 49,
      "outputs": [
        {
          "output_type": "display_data",
          "data": {
            "text/plain": [
              "<Figure size 600x400 with 2 Axes>"
            ],
            "image/png": "[encoded data removed]"
          },
          "metadata": {}
        }
      ]
    },
    {
      "cell_type": "markdown",
      "source": [
        "# **Performance Metrics and Evaluation**"
      ],
      "metadata": {
        "id": "luE_kWlcXl3j"
      }
    },
    {
      "cell_type": "markdown",
      "source": [
        "# 1) Negative Sentiment Prediction Assessment"
      ],
      "metadata": {
        "id": "nwz-76bZX2gB"
      }
    },
    {
      "cell_type": "code",
      "source": [
        "tp, tn, fp, fn = 1136, 70+237+147+1308, 216+647, 193+545"
      ],
      "metadata": {
        "id": "CH1Axr6yXi41"
      },
      "execution_count": 50,
      "outputs": []
    },
    {
      "cell_type": "code",
      "source": [
        "recall = tp / (tp+fn)\n",
        "specifity = tn / (tn+fp)\n",
        "precision = tp/(tp+fp)\n",
        "f1 = (2*tp) / (2*tp + fp + fn)"
      ],
      "metadata": {
        "id": "tU8CY7OLYzSR"
      },
      "execution_count": 51,
      "outputs": []
    },
    {
      "cell_type": "code",
      "source": [
        "print(\"recall: {}\\nprecission: {}\\nf1 score: {}\".format(recall, precision, f1))"
      ],
      "metadata": {
        "colab": {
          "base_uri": "https://localhost:8080/"
        },
        "id": "WTLE7zaVY0lj",
        "outputId": "ebff3537-dfd7-4e9f-e2cb-7edf54c286ce"
      },
      "execution_count": 52,
      "outputs": [
        {
          "output_type": "stream",
          "name": "stdout",
          "text": [
            "recall: 0.6061899679829242\n",
            "precission: 0.5682841420710355\n",
            "f1 score: 0.5866253550219468\n"
          ]
        }
      ]
    },
    {
      "cell_type": "markdown",
      "source": [
        "# 2) Positive Sentiment Prediction Assessment\n"
      ],
      "metadata": {
        "id": "YkSoVogRY4IA"
      }
    },
    {
      "cell_type": "code",
      "source": [
        "tp1, tn1, fp1, fn1 = 1308, 1136+216+70+193, 237+647, 147+545"
      ],
      "metadata": {
        "id": "jJGVQ93eY11c"
      },
      "execution_count": 56,
      "outputs": []
    },
    {
      "cell_type": "code",
      "source": [
        "recall1 = tp1 / (tp1+fn1)\n",
        "specifity1 = tn1 / (tn1+fp1)\n",
        "precision1 = tp1/(tp1+fp1)\n",
        "f1_1 = (2*tp1) / (2*tp1 + fp1 + fn1)"
      ],
      "metadata": {
        "id": "923xwx_JZ7rN"
      },
      "execution_count": 57,
      "outputs": []
    },
    {
      "cell_type": "code",
      "source": [
        "print(\"recall: {}\\nprecission: {}\\nf1 score: {}\".format(recall1, precision1, f1_1))"
      ],
      "metadata": {
        "colab": {
          "base_uri": "https://localhost:8080/"
        },
        "id": "_uBYuMQsZxKF",
        "outputId": "6bea7546-7b33-4a6f-d84e-f274cc58bb9d"
      },
      "execution_count": 59,
      "outputs": [
        {
          "output_type": "stream",
          "name": "stdout",
          "text": [
            "recall: 0.654\n",
            "precission: 0.5967153284671532\n",
            "f1 score: 0.6240458015267175\n"
          ]
        }
      ]
    },
    {
      "cell_type": "markdown",
      "source": [
        "## **Sentiment Scoring Model Using NLTK Opinion Lexicon**"
      ],
      "metadata": {
        "id": "SaULoBU5aUF6"
      }
    },
    {
      "cell_type": "code",
      "source": [
        "import nltk\n",
        "from nltk.corpus import opinion_lexicon\n",
        "from nltk.tokenize import word_tokenize, sent_tokenize\n",
        "nltk.download(\"opinion_lexicon\")"
      ],
      "metadata": {
        "colab": {
          "base_uri": "https://localhost:8080/"
        },
        "id": "dcYz9w92Z0fa",
        "outputId": "f7ca03af-83de-4ba3-fc78-36ede9cec90f"
      },
      "execution_count": 60,
      "outputs": [
        {
          "output_type": "stream",
          "name": "stderr",
          "text": [
            "[nltk_data] Downloading package opinion_lexicon to /root/nltk_data...\n",
            "[nltk_data]   Unzipping corpora/opinion_lexicon.zip.\n"
          ]
        },
        {
          "output_type": "execute_result",
          "data": {
            "text/plain": [
              "True"
            ]
          },
          "metadata": {},
          "execution_count": 60
        }
      ]
    },
    {
      "cell_type": "code",
      "source": [
        "pos_words = list(opinion_lexicon.positive())\n",
        "neg_words = list(opinion_lexicon.negative())"
      ],
      "metadata": {
        "id": "rUzpuFFGaj7N"
      },
      "execution_count": 61,
      "outputs": []
    },
    {
      "cell_type": "code",
      "source": [
        "def get_sentiment_score_oplex(text):\n",
        "\n",
        "    \"\"\"\n",
        "        This method returns the sentiment score of a given text using nltk opinion lexicon.\n",
        "        input: text\n",
        "        output: numeric (double) score, >0 means positive sentiment and <0 means negative sentiment.\n",
        "    \"\"\"\n",
        "    total_score = 0\n",
        "\n",
        "    raw_sentences = sent_tokenize(text)\n",
        "\n",
        "    for sentence in raw_sentences:\n",
        "\n",
        "        sent_score = 0\n",
        "        sentence = str(sentence)\n",
        "        sentence = sentence.replace(\"<br />\",\" \").translate(str.maketrans('','',punctuation)).lower()\n",
        "        tokens = TreebankWordTokenizer().tokenize(text)\n",
        "        for token in tokens:\n",
        "            sent_score = sent_score + 1 if token in pos_words else (sent_score - 1 if token in neg_words else sent_score)\n",
        "        total_score = total_score + (sent_score / len(tokens))\n",
        "\n",
        "\n",
        "    return total_score"
      ],
      "metadata": {
        "id": "ggcqVQmLamgG"
      },
      "execution_count": 62,
      "outputs": []
    },
    {
      "cell_type": "code",
      "source": [
        "reviews['oplex_sentiment_score'] = reviews['reviewText'].apply(lambda x: get_sentiment_score_oplex(x))"
      ],
      "metadata": {
        "id": "uieJ6bm8aoFV"
      },
      "execution_count": 63,
      "outputs": []
    },
    {
      "cell_type": "code",
      "source": [
        "fig , ax = plt.subplots(nrows=1, ncols=1, figsize=(10,5))\n",
        "sns.histplot(x='oplex_sentiment_score',\\\n",
        "             data=reviews.query(\"oplex_sentiment_score < 1 and oplex_sentiment_score>-1\"), ax=ax)\n",
        "plt.show()"
      ],
      "metadata": {
        "colab": {
          "base_uri": "https://localhost:8080/",
          "height": 465
        },
        "id": "4dDgQPxDaqgh",
        "outputId": "73b21664-12af-4197-b7da-522e24336d04"
      },
      "execution_count": 64,
      "outputs": [
        {
          "output_type": "display_data",
          "data": {
            "text/plain": [
              "<Figure size 1000x500 with 1 Axes>"
            ],
            "image/png": "[encoded data removed]"
          },
          "metadata": {}
        }
      ]
    },
    {
      "cell_type": "code",
      "source": [
        "reviews['oplex_sentiment'] = reviews['oplex_sentiment_score'].apply(lambda x: \"positive\" if x>0.1 else (\"negative\" if x<0 else \"neutral\"))"
      ],
      "metadata": {
        "id": "v0PLzL9JavwE"
      },
      "execution_count": 65,
      "outputs": []
    },
    {
      "cell_type": "code",
      "source": [
        "reviews['oplex_sentiment'].value_counts(dropna=False)"
      ],
      "metadata": {
        "colab": {
          "base_uri": "https://localhost:8080/"
        },
        "id": "uEWNZVGLa16S",
        "outputId": "faf3b06e-eaea-4340-ff88-f710a6ab96bd"
      },
      "execution_count": 66,
      "outputs": [
        {
          "output_type": "execute_result",
          "data": {
            "text/plain": [
              "positive    1812\n",
              "neutral     1578\n",
              "negative    1109\n",
              "Name: oplex_sentiment, dtype: int64"
            ]
          },
          "metadata": {},
          "execution_count": 66
        }
      ]
    },
    {
      "cell_type": "code",
      "source": [
        "sns.countplot(x='overall', hue='oplex_sentiment' ,data = reviews)"
      ],
      "metadata": {
        "colab": {
          "base_uri": "https://localhost:8080/",
          "height": 466
        },
        "id": "HiNsdRfMa5Gw",
        "outputId": "21884620-4f5f-47ea-fe6d-75754615898c"
      },
      "execution_count": 67,
      "outputs": [
        {
          "output_type": "execute_result",
          "data": {
            "text/plain": [
              "<Axes: xlabel='overall', ylabel='count'>"
            ]
          },
          "metadata": {},
          "execution_count": 67
        },
        {
          "output_type": "display_data",
          "data": {
            "text/plain": [
              "<Figure size 640x480 with 1 Axes>"
            ],
            "image/png": "[encoded data removed]"
          },
          "metadata": {}
        }
      ]
    },
    {
      "cell_type": "code",
      "source": [
        "sns.boxenplot(x='oplex_sentiment', y='overall', data = reviews)"
      ],
      "metadata": {
        "colab": {
          "base_uri": "https://localhost:8080/",
          "height": 467
        },
        "id": "POHsPQqDa7rs",
        "outputId": "c8bfca81-0381-4310-aa06-d81661e7a03b"
      },
      "execution_count": 68,
      "outputs": [
        {
          "output_type": "execute_result",
          "data": {
            "text/plain": [
              "<Axes: xlabel='oplex_sentiment', ylabel='overall'>"
            ]
          },
          "metadata": {},
          "execution_count": 68
        },
        {
          "output_type": "display_data",
          "data": {
            "text/plain": [
              "<Figure size 640x480 with 1 Axes>"
            ],
            "image/png": "[encoded data removed]"
          },
          "metadata": {}
        }
      ]
    },
    {
      "cell_type": "code",
      "source": [
        "fig, ax = plt.subplots(nrows=1, ncols=1, figsize = (10,5))\n",
        "sns.boxenplot(x='overall', y='oplex_sentiment_score', data = reviews, ax=ax)\n",
        "plt.show()"
      ],
      "metadata": {
        "colab": {
          "base_uri": "https://localhost:8080/",
          "height": 465
        },
        "id": "AQcV_T5Ea9By",
        "outputId": "c95888ec-3c5b-4605-d18f-e7fc9b7be0a9"
      },
      "execution_count": 69,
      "outputs": [
        {
          "output_type": "display_data",
          "data": {
            "text/plain": [
              "<Figure size 1000x500 with 1 Axes>"
            ],
            "image/png": "[encoded data removed]"
          },
          "metadata": {}
        }
      ]
    },
    {
      "cell_type": "code",
      "source": [
        "y_oplex_pred = reviews['oplex_sentiment'].tolist()\n"
      ],
      "metadata": {
        "id": "Tf3-wRCga_yX"
      },
      "execution_count": 70,
      "outputs": []
    },
    {
      "cell_type": "code",
      "source": [
        "oplex_cm = confusion_matrix(y_true, y_oplex_pred)\n"
      ],
      "metadata": {
        "id": "AF0XQkZIbK2q"
      },
      "execution_count": 71,
      "outputs": []
    },
    {
      "cell_type": "code",
      "source": [
        "fig , ax = plt.subplots(nrows=1, ncols=1, figsize=(8,6))\n",
        "sns.heatmap(oplex_cm, cmap='viridis_r', annot=True, fmt='d', square=True, ax=ax)\n",
        "ax.set_xlabel('Predicted')\n",
        "ax.set_ylabel('True');"
      ],
      "metadata": {
        "colab": {
          "base_uri": "https://localhost:8080/",
          "height": 542
        },
        "id": "PxufZElZbL0O",
        "outputId": "8861e319-850f-40f5-96a8-31b98a51784f"
      },
      "execution_count": 72,
      "outputs": [
        {
          "output_type": "display_data",
          "data": {
            "text/plain": [
              "<Figure size 800x600 with 2 Axes>"
            ],
            "image/png": "[encoded data removed]"
          },
          "metadata": {}
        }
      ]
    },
    {
      "cell_type": "code",
      "source": [
        "oplex_cm = list(oplex_cm.ravel())\n",
        "oplex_cm"
      ],
      "metadata": {
        "id": "ByQhwTcKbNGQ"
      },
      "execution_count": 73,
      "outputs": []
    },
    {
      "cell_type": "markdown",
      "source": [
        "# Negative Label Assessment"
      ],
      "metadata": {
        "id": "CX7LsAf0bQyO"
      }
    },
    {
      "cell_type": "code",
      "source": [
        "tp, tn, fp, fn = 845, 165+231+701+1139, 104+160, 712+442"
      ],
      "metadata": {
        "id": "UlkNK93nbOIb"
      },
      "execution_count": 74,
      "outputs": []
    },
    {
      "cell_type": "code",
      "source": [
        "recall = tp / (tp+fn)\n",
        "specifity = tn / (tn+fp)\n",
        "precision = tp/(tp+fp)\n",
        "f1 = (2*tp) / (2*tp + fp + fn)\n",
        "\n",
        "print(\"recall: {}\\nprecission: {}\\nf1 score: {}\".format(recall, precision, f1))"
      ],
      "metadata": {
        "colab": {
          "base_uri": "https://localhost:8080/"
        },
        "id": "lF7O2SIqjHOV",
        "outputId": "7d28b073-6d8f-4d5f-e763-3894e4771ec5"
      },
      "execution_count": 75,
      "outputs": [
        {
          "output_type": "stream",
          "name": "stdout",
          "text": [
            "recall: 0.4227113556778389\n",
            "precission: 0.7619477006311993\n",
            "f1 score: 0.5437580437580437\n"
          ]
        }
      ]
    },
    {
      "cell_type": "code",
      "source": [
        "tp2, tn2, fp2, fn2 = 1139, 845+712+104+165, 442+231, 160+701\n"
      ],
      "metadata": {
        "id": "z6nNvmfAjI81"
      },
      "execution_count": 76,
      "outputs": []
    },
    {
      "cell_type": "code",
      "source": [
        "recall2 = tp2 / (tp2+fn2)\n",
        "specifity2 = tn2 / (tn2+fp2)\n",
        "precision2 = tp2/(tp2+fp2)\n",
        "f1_2 = (2*tp2) / (2*tp2 + fp2 + fn2)\n",
        "\n",
        "print(\"recall: {}\\nprecission: {}\\nf1 score: {}\".format(recall2, precision2, f1_2))"
      ],
      "metadata": {
        "colab": {
          "base_uri": "https://localhost:8080/"
        },
        "id": "sUCdZbwXjg8d",
        "outputId": "9e67ab7c-22a1-47ce-fcf4-68b6ffb32fe9"
      },
      "execution_count": 77,
      "outputs": [
        {
          "output_type": "stream",
          "name": "stdout",
          "text": [
            "recall: 0.5695\n",
            "precission: 0.6285871964679912\n",
            "f1 score: 0.5975865687303253\n"
          ]
        }
      ]
    },
    {
      "cell_type": "code",
      "source": [],
      "metadata": {
        "id": "1Au5hFV1jrwk"
      },
      "execution_count": null,
      "outputs": []
    }
  ]
}